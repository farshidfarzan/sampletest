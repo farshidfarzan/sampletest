{
 "cells": [
  {
   "cell_type": "markdown",
   "id": "20421042-6499-421c-aa96-9d409cab0fe4",
   "metadata": {
    "editable": true,
    "slideshow": {
     "slide_type": ""
    },
    "tags": []
   },
   "source": [
    "Copyright 2020 Andrew M. Olney and made available under [CC BY-SA](https://creativecommons.org/licenses/by-sa/4.0) for text and [Apache-2.0](http://www.apache.org/licenses/LICENSE-2.0) for code."
   ]
  },
  {
   "cell_type": "markdown",
   "id": "d93bec35-e536-4a31-aab7-9ab2ca09e18b",
   "metadata": {
    "editable": true,
    "slideshow": {
     "slide_type": ""
    },
    "tags": []
   },
   "source": [
    "# Data Science and the Nature of Data"
   ]
  },
  {
   "cell_type": "markdown",
   "id": "a34c5557-b2d6-4a58-b489-ccd2198d88a2",
   "metadata": {
    "editable": true,
    "jp-MarkdownHeadingCollapsed": true,
    "slideshow": {
     "slide_type": ""
    },
    "tags": []
   },
   "source": [
    "## Types of variables\n",
    "\n",
    "Structured data begins with **measurements** of some type of thing in the real world, which we call a **variable**.\n",
    "Consider the example of height. \n",
    "I may measure 10 people and find that their heights in centimeters are:\n",
    "\n",
    "<div style=\"display: flex; align-items: flex-start;\">\n",
    "\n",
    "<!-- Table -->\n",
    "<div>\n",
    "    <table>\n",
    "        <thead>\n",
    "            <tr>\n",
    "                <th>Height</th>\n",
    "            </tr>\n",
    "        </thead>\n",
    "        <tbody>\n",
    "            <tr><td>165</td></tr>\n",
    "            <tr><td>188</td></tr>\n",
    "            <tr><td>153</td></tr>\n",
    "            <tr><td>164</td></tr>\n",
    "            <tr><td>150</td></tr>\n",
    "            <tr><td>190</td></tr>\n",
    "            <tr><td>169</td></tr>\n",
    "            <tr><td>163</td></tr>\n",
    "            <tr><td>165</td></tr>\n",
    "            <tr><td>190</td></tr>\n",
    "        </tbody>\n",
    "    </table>\n",
    "</div>\n",
    "\n",
    "<!-- Image -->\n",
    "<div style=\"margin-left: 400px;\">\n",
    "    <img src=\"https://ffarzan.com/wp-content/uploads/2025/01/test-1.jpg\" alt=\"An example image\" width=\"400\">\n",
    "</div>\n",
    "\n",
    "</div>\n",
    "\n",
    "Each of these values (e.g. 165) is a measurement of the variable *height*.\n",
    "We call *height* a variable because its value isn't constant.\n",
    "If everyone in the world were the same height, we wouldn't call height a variable, and we also wouldn't bother measuring it, because we'd know everyone is the same.\n",
    "\n",
    "Variables have different **types** that can affect your analysis.\n",
    "\n",
    "### Nominal\n",
    "\n",
    "A nominal variable consists of unordered categories, like *male* or *female* for biological sex.\n",
    "Notice that these categories are not numbers, and there is no order to the categories.\n",
    "We do not say that male comes before female or is smaller than female.\n",
    "\n",
    "### Ordinal\n",
    "\n",
    "Ordinal variables consist of ordered categories.\n",
    "You can think of it as nominal data but with an ordering from first to last or smallest to largest.\n",
    "A common example of ordinal data are Likert questions like:\n",
    "\n",
    "```\n",
    "(1) Strongly disagree\n",
    "(2) Disagree\n",
    "(3) Neither agree nor disagree\n",
    "(4) Agree\n",
    "(5) Strongly agree\n",
    "```\n",
    "\n",
    "Even though these options are numbered 1 to 5, those numbers only indicate which comes before the others, not how \"big\" an option is.\n",
    "For example, we wouldn't say that the difference between *Agree*  and *Disagree* is the same as the difference between *Neither agree nor disagree* and *Strongly agree*.\n",
    "\n",
    "### Interval\n",
    "\n",
    "Interval variables are ordered *and* their measurement scales are evenly spaced.\n",
    "A classic example is temperature in Fahrenheit.\n",
    "In degrees Fahrenheit, the difference between 70 and 71 is the same as the difference between 90 and 91 - either case is one degree.\n",
    "The other most important characteristic of interval variables is also the most confusing one, which is that interval variables don't have a meaningful zero value.\n",
    "Degrees Fahrenheit is an example of this because there's nothing special about 0 degrees. \n",
    "0 degrees doesn't mean there's no temperature or no heat energy, it's just an arbitrary point on the scale.\n",
    "\n",
    "### Ratio\n",
    "\n",
    "Ratio variables are like interval variables but with meaningful zeros.\n",
    "Age and height are good examples because 0 age means you have no age, and 0 height means you have no height.\n",
    "The name *ratio* reflects that you can form a ratio with these variables, which means that you can say age 20 is twice as old as age 10.\n",
    "Notice you can't say that about degrees Fahrenheit: 100 degrees is not really twice as hot as 50 degrees, because 0 degrees Fahrenheit doesn't mean \"no temperature.\""
   ]
  },
  {
   "cell_type": "markdown",
   "id": "1c557acf-14b4-4448-a65c-f3c23e613d48",
   "metadata": {
    "editable": true,
    "slideshow": {
     "slide_type": ""
    },
    "tags": []
   },
   "source": [
    "## Tabular data\n",
    "\n",
    "The most common type of structured data is **tabular data** which is what you find in spreadsheets.\n",
    "If you've ever used a spreadsheet, you know something about tabular data!\n",
    "\n",
    "Here's an example of tabular data, with *height* in centimeters, *age* in years, and *weight* in kilograms:\n",
    "\n",
    "<div style=\"display: flex; align-items: center;\">\n",
    "\n",
    "<!-- Table -->\n",
    "<div>\n",
    "    <table>\n",
    "        <thead>\n",
    "            <tr>\n",
    "                <th>Height</th>\n",
    "                <th>Age</th>\n",
    "                <th>Weight</th>\n",
    "            </tr>\n",
    "        </thead>\n",
    "        <tbody>\n",
    "            <tr><td>161</td><td>50</td><td>53</td></tr>\n",
    "            <tr><td>161</td><td>17</td><td>53</td></tr>\n",
    "            <tr><td>155</td><td>33</td><td>84</td></tr>\n",
    "            <tr><td>180</td><td>51</td><td>84</td></tr>\n",
    "            <tr><td>186</td><td>18</td><td>88</td></tr>\n",
    "        </tbody>\n",
    "    </table>\n",
    "</div>\n",
    "\n",
    "<!-- Image -->\n",
    "<div style=\"margin-left: 400px;\">\n",
    "    <img src=\"https://ffarzan.com/wp-content/uploads/2025/01/test-6.jpg\" alt=\"Test Image\" width=\"250\">\n",
    "</div>\n",
    "\n",
    "</div>\n",
    "\n",
    "\n",
    "In tabular data like this, each **row** is a person.\n",
    "More generically, we would say each row is an **observation** or **datapoint** (in statistics terminology) or an **item** (in machine learning terminology).\n",
    "In each row, we have measurements for each of our variables for that particular person.\n",
    "Since we have five rows of measurements, we know that there are five people in this dataset.\n",
    "\n",
    "We can also think about tabular data in terms of **columns**.\n",
    "Each column represents a variable, with the name of that variable in the **column header**.\n",
    "For example, *height* is at the top of the first column and is the name of the variable for that column.\n",
    "Importantly, the header is not an observation but rather a description of our data.\n",
    "This is why we don't count the header when we are counting the rows in our data.\n",
    "\n",
    "### Delimited tabular data - CSV and TSV\n",
    "\n",
    "You are probably familiar with spreadsheet files, e.g. Microsoft Excel has files that end in `.xls` or `.xlsx`.\n",
    "However, in data science, it is more common to have tabular data files that are **delimited**.\n",
    "A delimited file is just a plain text file where column boundaries are represented by a specific character, usually a comma or a tab.\n",
    "\n",
    "Here's what the data above looks like in **comma separated value (CSV)** form:\n",
    "\n",
    "```\n",
    "Height,Age,Weight\n",
    "161,50,53\n",
    "161,17,53\n",
    "155,33,84\n",
    "180,51,84\n",
    "186,18,88\n",
    "```\n",
    "\n",
    "and here's what the data looks like in **tab separated value (TSV)** form:\n",
    "\n",
    "```\n",
    "Height\tAge\tWeight\n",
    "161\t50\t53\n",
    "161\t17\t53\n",
    "155\t33\t84\n",
    "180\t51\t84\n",
    "186\t18\t88\n",
    "```\n",
    "\n",
    "The choice of the delimiter (comma, tab, or something else) is really arbitrary, but it's always better to use a delimiter that doesn't appear in your data.\n",
    "\n",
    "## Dataframes\n",
    "\n",
    "Data scientists often load tabular data into a **dataframe** that they can manipulate in a program.\n",
    "In other words, tabular data from a file is brought into the computational notebook in a variable that represents rows, columns, header, etc just like they are stored in the tabular data file.\n",
    "Because dataframes match tabular data in files, they are very intuitive to work with, which may explain their popularity.\n",
    "\n",
    "We're now at the practical portion of this notebook, so let's work with dataframes!"
   ]
  },
  {
   "cell_type": "markdown",
   "id": "c28dea28-9814-405e-a0f8-c1c55b7819c7",
   "metadata": {},
   "source": [
    "First, we need to import a dataframe library called `pandas`.  \n",
    "**Follow the steps in the image below**\n"
   ]
  },
  {
   "cell_type": "markdown",
   "id": "a10af6bd-39fe-4dd7-accc-fb434a6f545a",
   "metadata": {},
   "source": [
    "<img src=\"https://ffarzan.com/wp-content/uploads/2025/01/code-scaled.jpg\" alt=\"Code Image\" style=\"width: 50%; height: auto; display: block; margin: 0 auto;\">\n"
   ]
  },
  {
   "cell_type": "markdown",
   "id": "a8302a42-97e6-492b-9841-acee2c8409cd",
   "metadata": {},
   "source": [
    "Once the code is in the Jupyter cell below, you must **execute** or **run** it by either pressing the &#9658; button at the top of the window or by pressing Shift + Enter on your keyboard."
   ]
  },
  {
   "cell_type": "code",
   "execution_count": 2,
   "id": "027c485c-9ff1-4dc3-a944-91b040ed9f55",
   "metadata": {},
   "outputs": [],
   "source": [
    "import pandas as pd"
   ]
  },
  {
   "cell_type": "markdown",
   "id": "fd8da644-62d6-44be-8b9c-b160a4d60a95",
   "metadata": {},
   "source": [
    "\n",
    "We can now do things with `pd`, like load datasets!\n",
    "\n",
    "Our file is called `height-age-weight.csv` and it is in the `datasets` folder.\n",
    "That means the **path** from this notebook (the one you're reading) to the data is `datasets/height-age-weight.csv`.\n",
    "\n",
    "To read this file into a dataframe, we will use `pd` and read the file into a variable called `dataframe`. "
   ]
  },
  {
   "cell_type": "markdown",
   "id": "bb88f989-b4d3-470b-8e00-f188e5592352",
   "metadata": {},
   "source": [
    "**Follow the steps in the image below**"
   ]
  },
  {
   "cell_type": "markdown",
   "id": "6109fad2-7af1-4097-9494-b919a1b2f1dc",
   "metadata": {},
   "source": [
    "<img src=\"https://ffarzan.com/wp-content/uploads/2025/01/code-2-scaled.jpg\" alt=\"Code Image\" style=\"width: 50%; height: auto; display: block; margin: 0 auto;\">"
   ]
  },
  {
   "cell_type": "markdown",
   "id": "66b04b36-0a55-49fe-872f-70e3c0113330",
   "metadata": {},
   "source": [
    "Run the cell with the &#9658; button or press Shift + Enter to run the code."
   ]
  },
  {
   "cell_type": "code",
   "execution_count": 3,
   "id": "3c07a7d8-2ffc-4db6-8aa0-fe558ccb45ce",
   "metadata": {},
   "outputs": [
    {
     "data": {
      "text/html": [
       "<div>\n",
       "<style scoped>\n",
       "    .dataframe tbody tr th:only-of-type {\n",
       "        vertical-align: middle;\n",
       "    }\n",
       "\n",
       "    .dataframe tbody tr th {\n",
       "        vertical-align: top;\n",
       "    }\n",
       "\n",
       "    .dataframe thead th {\n",
       "        text-align: right;\n",
       "    }\n",
       "</style>\n",
       "<table border=\"1\" class=\"dataframe\">\n",
       "  <thead>\n",
       "    <tr style=\"text-align: right;\">\n",
       "      <th></th>\n",
       "      <th>Height</th>\n",
       "      <th>Age</th>\n",
       "      <th>Weight</th>\n",
       "    </tr>\n",
       "  </thead>\n",
       "  <tbody>\n",
       "    <tr>\n",
       "      <th>0</th>\n",
       "      <td>161</td>\n",
       "      <td>50</td>\n",
       "      <td>53</td>\n",
       "    </tr>\n",
       "    <tr>\n",
       "      <th>1</th>\n",
       "      <td>161</td>\n",
       "      <td>17</td>\n",
       "      <td>53</td>\n",
       "    </tr>\n",
       "    <tr>\n",
       "      <th>2</th>\n",
       "      <td>155</td>\n",
       "      <td>33</td>\n",
       "      <td>84</td>\n",
       "    </tr>\n",
       "    <tr>\n",
       "      <th>3</th>\n",
       "      <td>180</td>\n",
       "      <td>51</td>\n",
       "      <td>84</td>\n",
       "    </tr>\n",
       "    <tr>\n",
       "      <th>4</th>\n",
       "      <td>186</td>\n",
       "      <td>18</td>\n",
       "      <td>88</td>\n",
       "    </tr>\n",
       "  </tbody>\n",
       "</table>\n",
       "</div>"
      ],
      "text/plain": [
       "   Height  Age  Weight\n",
       "0     161   50      53\n",
       "1     161   17      53\n",
       "2     155   33      84\n",
       "3     180   51      84\n",
       "4     186   18      88"
      ]
     },
     "execution_count": 3,
     "metadata": {},
     "output_type": "execute_result"
    }
   ],
   "source": [
    "dataframe = pd.read_csv('datasets/height-age-weight.csv')\n",
    "dataframe"
   ]
  },
  {
   "cell_type": "markdown",
   "id": "7daa802d-6040-4233-8a76-cb0eaa1fde9d",
   "metadata": {},
   "source": [
    "We've read the csv and stored the data in the `dataframe` variable, so we will use the `dataframe` variable whenever we want to work with the data."
   ]
  },
  {
   "cell_type": "markdown",
   "id": "b4c3f663-f84d-4667-9b66-449eb5c27f88",
   "metadata": {},
   "source": [
    "There are many things we can do with dataframes.\n",
    "One thing we can do is get specific rows."
   ]
  },
  {
   "cell_type": "markdown",
   "id": "0c5ef1c8-3d9c-4873-afc6-ef86375d7420",
   "metadata": {},
   "source": [
    "**Follow the steps in the image below**"
   ]
  },
  {
   "cell_type": "markdown",
   "id": "e5d52289-4edc-4f01-a5a6-c5d55098ccd1",
   "metadata": {},
   "source": [
    "<img src=\"https://ffarzan.com/wp-content/uploads/2025/01/code-33-scaled.jpg\" alt=\"Code Image\" style=\"width: 50%; height: auto; display: block; margin: 0 auto;\">"
   ]
  },
  {
   "cell_type": "markdown",
   "id": "d6d103b8-a33f-495d-8a2c-85099faef66b",
   "metadata": {},
   "source": [
    "*Then &#9658; or Shift + Enter*"
   ]
  },
  {
   "cell_type": "code",
   "execution_count": null,
   "id": "d7c74b35-147f-4cef-9085-d6fee99d3f40",
   "metadata": {},
   "outputs": [],
   "source": [
    "dataframe[ : 1]"
   ]
  },
  {
   "cell_type": "markdown",
   "id": "b402e681-69a0-4154-ad54-128c027a5e15",
   "metadata": {},
   "source": [
    "As you can see, the output is only the first row of the dataframe."
   ]
  },
  {
   "cell_type": "markdown",
   "id": "d0d7ec79-55a0-4a30-8a22-c6be88accd88",
   "metadata": {},
   "source": [
    "Try it again in the cell below, but this time, change the `1` to a `2`"
   ]
  },
  {
   "cell_type": "markdown",
   "id": "bb9fd182-c628-4d34-9799-efe45d7faa53",
   "metadata": {},
   "source": [
    "*Then &#9658; or Shift + Enter*"
   ]
  },
  {
   "cell_type": "code",
   "execution_count": 5,
   "id": "3d625b93-1d50-4342-b4f6-554135d5e42e",
   "metadata": {},
   "outputs": [
    {
     "data": {
      "text/html": [
       "<div>\n",
       "<style scoped>\n",
       "    .dataframe tbody tr th:only-of-type {\n",
       "        vertical-align: middle;\n",
       "    }\n",
       "\n",
       "    .dataframe tbody tr th {\n",
       "        vertical-align: top;\n",
       "    }\n",
       "\n",
       "    .dataframe thead th {\n",
       "        text-align: right;\n",
       "    }\n",
       "</style>\n",
       "<table border=\"1\" class=\"dataframe\">\n",
       "  <thead>\n",
       "    <tr style=\"text-align: right;\">\n",
       "      <th></th>\n",
       "      <th>Height</th>\n",
       "      <th>Age</th>\n",
       "      <th>Weight</th>\n",
       "    </tr>\n",
       "  </thead>\n",
       "  <tbody>\n",
       "    <tr>\n",
       "      <th>0</th>\n",
       "      <td>161</td>\n",
       "      <td>50</td>\n",
       "      <td>53</td>\n",
       "    </tr>\n",
       "    <tr>\n",
       "      <th>1</th>\n",
       "      <td>161</td>\n",
       "      <td>17</td>\n",
       "      <td>53</td>\n",
       "    </tr>\n",
       "  </tbody>\n",
       "</table>\n",
       "</div>"
      ],
      "text/plain": [
       "   Height  Age  Weight\n",
       "0     161   50      53\n",
       "1     161   17      53"
      ]
     },
     "execution_count": 5,
     "metadata": {},
     "output_type": "execute_result"
    }
   ],
   "source": [
    "dataframe[ : 2]"
   ]
  },
  {
   "cell_type": "markdown",
   "id": "4bc080ee-03f3-4d04-a14f-6b042be54b60",
   "metadata": {},
   "source": [
    "Now the output is the first two rows of the dataframe.\n",
    "We could get arbitrary rows of the dataframe by starting at a different number and ending at a different number.\n",
    "Sometimes people call this a **slice**."
   ]
  },
  {
   "cell_type": "markdown",
   "id": "8ae2aa99-53f1-4ef0-a972-5d226391d6e1",
   "metadata": {},
   "source": [
    "We can get a column of the dataframe by using the name of the variable for that column.\n",
    "Before we go any further, let's step back for a second to talk about **lists**.\n",
    "\n",
    "We can think of a dataframe in two ways:\n",
    "\n",
    "- A list of rows\n",
    "- A list of columns\n",
    "\n",
    "We just saw the list of rows way.\n",
    "So why are columns any different?\n",
    "The difference is that our columns have variable names, and we often want to refer to columns using those names.\n",
    "For example, we want to say something like \"give me the Age column\" instead of \"give me column 2.\"\n",
    "\n",
    "Let's make a list from scratch to illustrate this."
   ]
  },
  {
   "cell_type": "markdown",
   "id": "251e6923-92ec-4322-bcad-0799b18576b9",
   "metadata": {},
   "source": [
    "**Follow the steps in the image below**"
   ]
  },
  {
   "cell_type": "markdown",
   "id": "b5a01eb8-08a5-49a9-8ca9-5f2de1ab2cd9",
   "metadata": {},
   "source": [
    "<div style=\"border: 4px solid black; padding: 10px; display: inline-block;\">\n",
    "    <div style=\"display: flex; justify-content: center; align-items: center; margin-left: 10%;\">\n",
    "        <img src=\"https://ffarzan.com/wp-content/uploads/2025/01/test-10-scaled.jpg\" alt=\"Code Image Left\" style=\"width: 25%; height: auto; margin-right: 10px;\">\n",
    "        <img src=\"https://ffarzan.com/wp-content/uploads/2025/01/code-4-scaled.jpg\" alt=\"Code Image Right\" style=\"width: 65%; height: 45%; margin-left: 10px; margin-top: 10%;\">\n",
    "    </div>\n",
    "</div>"
   ]
  },
  {
   "cell_type": "markdown",
   "id": "4838bec2-e73f-436c-a39a-122b49ce4825",
   "metadata": {},
   "source": [
    "Now execute the cell (scroll up if you need a reminder how)."
   ]
  },
  {
   "cell_type": "code",
   "execution_count": 6,
   "id": "c86d1fb8-10e1-47e0-bba8-2f7b3d9d7829",
   "metadata": {},
   "outputs": [
    {
     "data": {
      "text/plain": [
       "['Height']"
      ]
     },
     "execution_count": 6,
     "metadata": {},
     "output_type": "execute_result"
    }
   ],
   "source": [
    "['Height']"
   ]
  },
  {
   "cell_type": "markdown",
   "id": "91b7fe97-5413-486a-8771-e62e04a28e00",
   "metadata": {},
   "source": [
    "This is a list with one thing inside it, `\"Height\"`.\n",
    "Lists can have multiple things inside them, making lists a container for other variables."
   ]
  },
  {
   "cell_type": "markdown",
   "id": "b5475782-fdb9-472a-8ade-2b0bc56e0d5b",
   "metadata": {},
   "source": [
    "Let's use a list to get a column from the dataframe."
   ]
  },
  {
   "cell_type": "code",
   "execution_count": null,
   "id": "f62d16ad-712a-4a0f-a794-b9c9867cd7a6",
   "metadata": {},
   "outputs": [],
   "source": [
    "**Follow the steps in the iamge below**"
   ]
  },
  {
   "cell_type": "markdown",
   "id": "0bdfa24f-2883-46f9-964f-aa3a9771ed7f",
   "metadata": {},
   "source": [
    "<img src=\"https://ffarzan.com/wp-content/uploads/2025/01/code-6-scaled.jpg\" alt=\"Code Image\" style=\"width: 50%; height: auto; display: block; margin: 0 auto;\">"
   ]
  },
  {
   "cell_type": "markdown",
   "id": "de83eccb-e718-4e4d-9e00-5e442f525920",
   "metadata": {},
   "source": [
    "And run it."
   ]
  },
  {
   "cell_type": "code",
   "execution_count": null,
   "id": "90290bbc-ded7-4e87-8923-30adb0992390",
   "metadata": {},
   "outputs": [],
   "source": [
    "dataframe[['Height']]"
   ]
  },
  {
   "cell_type": "markdown",
   "id": "c6e9fd3b-9f9c-44a7-9974-0302afbd38c0",
   "metadata": {},
   "source": [
    "We can get more than one column by adding another element to the list. "
   ]
  },
  {
   "cell_type": "markdown",
   "id": "ef5a9116-026f-4e17-beb8-d2b8b3705ed9",
   "metadata": {},
   "source": [
    "**Follow the steps in the video below**"
   ]
  },
  {
   "cell_type": "markdown",
   "id": "0a5a1131-af55-44e0-98fb-4290cb8eb56b",
   "metadata": {},
   "source": [
    "<img src=\"https://ffarzan.com/wp-content/uploads/2025/01/code-10-scaled.jpg\" alt=\"Code Image\" style=\"width: 70%; height: auto; display: block; margin: 0 auto;\">"
   ]
  },
  {
   "cell_type": "markdown",
   "id": "63cb6a8c-6b8b-468b-899d-b57e1f239f59",
   "metadata": {},
   "source": [
    "And run the cell (try Shift + Enter if you haven't tried it yet)."
   ]
  },
  {
   "cell_type": "code",
   "execution_count": 7,
   "id": "fd3ec3b4-d0e1-4b73-9fd4-adb15be46762",
   "metadata": {},
   "outputs": [
    {
     "data": {
      "text/html": [
       "<div>\n",
       "<style scoped>\n",
       "    .dataframe tbody tr th:only-of-type {\n",
       "        vertical-align: middle;\n",
       "    }\n",
       "\n",
       "    .dataframe tbody tr th {\n",
       "        vertical-align: top;\n",
       "    }\n",
       "\n",
       "    .dataframe thead th {\n",
       "        text-align: right;\n",
       "    }\n",
       "</style>\n",
       "<table border=\"1\" class=\"dataframe\">\n",
       "  <thead>\n",
       "    <tr style=\"text-align: right;\">\n",
       "      <th></th>\n",
       "      <th>Height</th>\n",
       "      <th>Age</th>\n",
       "    </tr>\n",
       "  </thead>\n",
       "  <tbody>\n",
       "    <tr>\n",
       "      <th>0</th>\n",
       "      <td>161</td>\n",
       "      <td>50</td>\n",
       "    </tr>\n",
       "    <tr>\n",
       "      <th>1</th>\n",
       "      <td>161</td>\n",
       "      <td>17</td>\n",
       "    </tr>\n",
       "    <tr>\n",
       "      <th>2</th>\n",
       "      <td>155</td>\n",
       "      <td>33</td>\n",
       "    </tr>\n",
       "    <tr>\n",
       "      <th>3</th>\n",
       "      <td>180</td>\n",
       "      <td>51</td>\n",
       "    </tr>\n",
       "    <tr>\n",
       "      <th>4</th>\n",
       "      <td>186</td>\n",
       "      <td>18</td>\n",
       "    </tr>\n",
       "  </tbody>\n",
       "</table>\n",
       "</div>"
      ],
      "text/plain": [
       "   Height  Age\n",
       "0     161   50\n",
       "1     161   17\n",
       "2     155   33\n",
       "3     180   51\n",
       "4     186   18"
      ]
     },
     "execution_count": 7,
     "metadata": {},
     "output_type": "execute_result"
    }
   ],
   "source": [
    "dataframe[['Height', 'Age']]"
   ]
  },
  {
   "cell_type": "markdown",
   "id": "e13c08f8-cf3b-4bfb-a2f8-9ef13a132d43",
   "metadata": {},
   "source": [
    "To recap, dataframes are both lists of rows and lists of columns, and lists are themselves containers for other variables."
   ]
  },
  {
   "cell_type": "markdown",
   "id": "ea681097-5742-404f-b365-148589c7b25a",
   "metadata": {},
   "source": [
    "There are many, many things we can do with dataframes, but let's just talk about one more for now.\n",
    "\n",
    "We can select rows based on a value in a particular column:"
   ]
  },
  {
   "cell_type": "markdown",
   "id": "7b4aa7e7-d284-4ea1-b5b0-f295f58fde6d",
   "metadata": {},
   "source": [
    "**Follow the steps in the image below**"
   ]
  },
  {
   "cell_type": "markdown",
   "id": "1d5066f2-323f-45ff-b022-1e5d09c4c7fd",
   "metadata": {},
   "source": [
    "<img src=\"https://ffarzan.com/wp-content/uploads/2025/01/code-8-scaled.jpg\" alt=\"Code Image\" style=\"width: 50%; height: auto; display: block; margin: 0 auto;\">"
   ]
  },
  {
   "cell_type": "markdown",
   "id": "f1e94856-3045-4199-8f3c-401ba99ecab5",
   "metadata": {},
   "source": [
    "Don't forget to run the cell!"
   ]
  },
  {
   "cell_type": "code",
   "execution_count": 19,
   "id": "aa4121ed-adac-4996-807b-a70d4ddb9d22",
   "metadata": {},
   "outputs": [
    {
     "data": {
      "text/html": [
       "<div>\n",
       "<style scoped>\n",
       "    .dataframe tbody tr th:only-of-type {\n",
       "        vertical-align: middle;\n",
       "    }\n",
       "\n",
       "    .dataframe tbody tr th {\n",
       "        vertical-align: top;\n",
       "    }\n",
       "\n",
       "    .dataframe thead th {\n",
       "        text-align: right;\n",
       "    }\n",
       "</style>\n",
       "<table border=\"1\" class=\"dataframe\">\n",
       "  <thead>\n",
       "    <tr style=\"text-align: right;\">\n",
       "      <th></th>\n",
       "      <th>Height</th>\n",
       "    </tr>\n",
       "  </thead>\n",
       "  <tbody>\n",
       "    <tr>\n",
       "      <th>0</th>\n",
       "      <td>False</td>\n",
       "    </tr>\n",
       "    <tr>\n",
       "      <th>1</th>\n",
       "      <td>False</td>\n",
       "    </tr>\n",
       "    <tr>\n",
       "      <th>2</th>\n",
       "      <td>False</td>\n",
       "    </tr>\n",
       "    <tr>\n",
       "      <th>3</th>\n",
       "      <td>True</td>\n",
       "    </tr>\n",
       "    <tr>\n",
       "      <th>4</th>\n",
       "      <td>True</td>\n",
       "    </tr>\n",
       "  </tbody>\n",
       "</table>\n",
       "</div>"
      ],
      "text/plain": [
       "   Height\n",
       "0   False\n",
       "1   False\n",
       "2   False\n",
       "3    True\n",
       "4    True"
      ]
     },
     "execution_count": 19,
     "metadata": {},
     "output_type": "execute_result"
    }
   ],
   "source": [
    "dataframe[['Height']] > 161"
   ]
  },
  {
   "cell_type": "markdown",
   "id": "3ec3b874-2cc6-4c4a-9727-c605dc0bf615",
   "metadata": {},
   "source": [
    "The resulting column is `True` or `False` depending on whether the value of `Height` was above 161 or not (notice a few were exactly equal to 161, so they weren't greater)."
   ]
  },
  {
   "cell_type": "markdown",
   "id": "b80548b4-9083-455b-8076-726532206bc4",
   "metadata": {},
   "source": [
    "What we're about to do next is magical."
   ]
  },
  {
   "cell_type": "markdown",
   "id": "1af48a7f-0625-43cd-861c-1af416707f99",
   "metadata": {},
   "source": [
    "**Follow the steps in the video below**"
   ]
  },
  {
   "cell_type": "markdown",
   "id": "ff4fd51b-7907-414f-bb85-a6fa3fb9f107",
   "metadata": {},
   "source": [
    "<div style=\"border: 4px solid black; padding: 10px; display: inline-block;\">\n",
    "    <div style=\"display: flex; justify-content: center; align-items: center; margin-left: 10%;\">\n",
    "        <img src=\"https://ffarzan.com/wp-content/uploads/2025/01/test-2.jpg\" alt=\"Code Image Left\" style=\"width: 25%; height: auto; margin-right: 10px;\">\n",
    "        <img src=\"https://ffarzan.com/wp-content/uploads/2025/01/code-9-scaled.jpg\" alt=\"Code Image Right\" style=\"width: 65%; height: 45%; margin-left: 10px; margin-top: 10%;\">\n",
    "    </div>\n",
    "</div>"
   ]
  },
  {
   "cell_type": "code",
   "execution_count": null,
   "id": "a4beee99-1e8f-4f0d-8e2f-b84adee409da",
   "metadata": {},
   "outputs": [],
   "source": [
    "dataframe[dataframe['Height'] > 161]"
   ]
  },
  {
   "cell_type": "markdown",
   "id": "c2a7826c-322b-49f1-8b02-6beec7fbb778",
   "metadata": {},
   "source": [
    "The dataframe only kept the rows for which `Height` was > 161, i.e. those for which this was `True`.\n",
    "\n",
    "Notice this time we didn't put `Height` in a list. It won't work if we do."
   ]
  },
  {
   "cell_type": "markdown",
   "id": "858baac0-4c97-4d9c-b656-92043ec616dd",
   "metadata": {},
   "source": [
    "------------------------\n",
    "\n",
    "**Once you complete the above steps, the link for the completion keyword will appear below**\n",
    "\n",
    "If you think it should appear and it hasn't, double check these things:\n",
    "\n",
    "- Is there an answer in every code cell\n",
    "- Has every cell be run (does it have a number next to it, e.g. `[3]`\n",
    "- Remember you can watch the training video in the other tab"
   ]
  },
  {
   "cell_type": "markdown",
   "id": "f89cba1b-b22a-49cf-bed3-513e32b22bc6",
   "metadata": {},
   "source": [
    "<img src=\"https://ffarzan.com/wp-content/uploads/2025/01/test-1.jpg\" alt=\"Code Image\" style=\"width: 50%; height: auto; display: block; margin: 0 auto;\">"
   ]
  },
  {
   "cell_type": "code",
   "execution_count": null,
   "id": "b1f7e4e9-8427-4d23-ac0f-01add91442c0",
   "metadata": {},
   "outputs": [],
   "source": []
  }
 ],
 "metadata": {
  "kernelspec": {
   "display_name": "Python 3 (ipykernel)",
   "language": "python",
   "name": "python3"
  },
  "language_info": {
   "codemirror_mode": {
    "name": "ipython",
    "version": 3
   },
   "file_extension": ".py",
   "mimetype": "text/x-python",
   "name": "python",
   "nbconvert_exporter": "python",
   "pygments_lexer": "ipython3",
   "version": "3.13.1"
  }
 },
 "nbformat": 4,
 "nbformat_minor": 5
}
