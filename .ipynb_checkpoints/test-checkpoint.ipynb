{
 "cells": [
  {
   "cell_type": "code",
   "execution_count": 40,
   "id": "ecd8040e-a9bd-4499-a21d-33e0db53c2a9",
   "metadata": {
    "editable": true,
    "slideshow": {
     "slide_type": ""
    },
    "tags": []
   },
   "outputs": [
    {
     "data": {
      "application/javascript": [
       "\n",
       "        (function() {\n",
       "            let cells = document.querySelectorAll('.jp-Notebook-cell');      \n",
       "            [2, 4].forEach(index => {\n",
       "                cells[index].style.display = 'none';\n",
       "            });\n",
       "        })();\n",
       "    "
      ],
      "text/plain": [
       "<IPython.core.display.Javascript object>"
      ]
     },
     "metadata": {},
     "output_type": "display_data"
    }
   ],
   "source": [
    "\n",
    "def modify_notebook_cells():\n",
    "    display(Javascript('''\n",
    "        (function() {\n",
    "            let cells = document.querySelectorAll('.jp-Notebook-cell');      \n",
    "            [2, 4].forEach(index => {\n",
    "                cells[index].style.display = 'none';\n",
    "            });\n",
    "        })();\n",
    "    '''))\n",
    "    \n",
    "def create_unhide_button():\n",
    "    # HTML and JavaScript to add a button for unhiding cell[2]\n",
    "    button_script = \"\"\"\n",
    "    <button id='unhideButton' style='font-size: 14px; padding: 5px 10px; margin-bottom: 10px;'>Unhide Cell</button>\n",
    "    <script>\n",
    "        document.getElementById('unhideButton').addEventListener('click', function() {\n",
    "            let cells = document.querySelectorAll('.jp-Notebook-cell');\n",
    "            [2].forEach(index => {\n",
    "                cells[index].style.display = '';\n",
    "            });\n",
    "        });\n",
    "    </script>\n",
    "    \"\"\"\n",
    "    display(HTML(button_script))\n",
    "def create_unhide_buttonnew():\n",
    "    button_script = \"\"\"\n",
    "    <button id='unhideButton' style='font-size: 14px; padding: 5px 10px; margin-bottom: 10px;'>Unhide Cell</button>\n",
    "    <script>\n",
    "        document.getElementById('unhideButton').addEventListener('click', function() {\n",
    "            let cells = document.querySelectorAll('.jp-Notebook-cell');\n",
    "            [4].forEach(index => {\n",
    "                cells[index].style.display = '';\n",
    "            });\n",
    "        });\n",
    "    </script>\n",
    "    \"\"\"\n",
    "    display(HTML(button_script))\n",
    "    \n",
    "# Call the functions\n",
    "modify_notebook_cells()\n"
   ]
  },
  {
   "cell_type": "code",
   "execution_count": 38,
   "id": "ec5e5afd-4fc3-41ed-8013-7f7e8da9de82",
   "metadata": {},
   "outputs": [
    {
     "data": {
      "text/html": [
       "\n",
       "    <button id='unhideButton' style='font-size: 14px; padding: 5px 10px; margin-bottom: 10px;'>Unhide Cell</button>\n",
       "    <script>\n",
       "        document.getElementById('unhideButton').addEventListener('click', function() {\n",
       "            let cells = document.querySelectorAll('.jp-Notebook-cell');\n",
       "            [2].forEach(index => {\n",
       "                cells[index].style.display = '';\n",
       "            });\n",
       "        });\n",
       "    </script>\n",
       "    "
      ],
      "text/plain": [
       "<IPython.core.display.HTML object>"
      ]
     },
     "metadata": {},
     "output_type": "display_data"
    }
   ],
   "source": [
    "create_unhide_button()"
   ]
  },
  {
   "cell_type": "code",
   "execution_count": 6,
   "id": "0f1d2128-639a-4175-8615-694a1f4a762c",
   "metadata": {},
   "outputs": [
    {
     "data": {
      "application/javascript": [
       "\n",
       "        (function() {\n",
       "            let cells = document.querySelectorAll('.jp-Notebook-cell');\n",
       "            let activeElement = document.activeElement.closest('.jp-Notebook-cell');\n",
       "            if (activeElement) {\n",
       "                let cellIndex = Array.from(cells).indexOf(activeElement);\n",
       "                alert(`Current Cell Number: ${cellIndex}`);\n",
       "            } else {\n",
       "                alert('No active cell found.');\n",
       "            }\n",
       "        })();\n",
       "    "
      ],
      "text/plain": [
       "<IPython.core.display.Javascript object>"
      ]
     },
     "metadata": {},
     "output_type": "display_data"
    }
   ],
   "source": [
    "cell3"
   ]
  },
  {
   "cell_type": "code",
   "execution_count": 35,
   "id": "f1882a72-f6b9-4951-96be-7406fca4efa0",
   "metadata": {},
   "outputs": [
    {
     "data": {
      "text/html": [
       "\n",
       "    <button id='unhideButton' style='font-size: 14px; padding: 5px 10px; margin-bottom: 10px;'>Unhide Cell</button>\n",
       "    <script>\n",
       "        document.getElementById('unhideButton').addEventListener('click', function() {\n",
       "            let cells = document.querySelectorAll('.jp-Notebook-cell');\n",
       "            [4].forEach(index => {\n",
       "                cells[index].style.display = '';\n",
       "            });\n",
       "        });\n",
       "    </script>\n",
       "    "
      ],
      "text/plain": [
       "<IPython.core.display.HTML object>"
      ]
     },
     "metadata": {},
     "output_type": "display_data"
    }
   ],
   "source": [
    "create_unhide_buttonnew()"
   ]
  },
  {
   "cell_type": "code",
   "execution_count": null,
   "id": "c2d02497-3d77-4354-a56c-a51065baeeb1",
   "metadata": {},
   "outputs": [],
   "source": [
    "cell5"
   ]
  }
 ],
 "metadata": {
  "kernelspec": {
   "display_name": "Python 3 (ipykernel)",
   "language": "python",
   "name": "python3"
  },
  "language_info": {
   "codemirror_mode": {
    "name": "ipython",
    "version": 3
   },
   "file_extension": ".py",
   "mimetype": "text/x-python",
   "name": "python",
   "nbconvert_exporter": "python",
   "pygments_lexer": "ipython3",
   "version": "3.13.1"
  }
 },
 "nbformat": 4,
 "nbformat_minor": 5
}
