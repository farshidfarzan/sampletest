{
 "cells": [
  {
   "cell_type": "markdown",
   "id": "01ffd04c-ccfa-4e49-a2f6-da5e1f77ab8e",
   "metadata": {},
   "source": [
    "<div style=\"position: relative; width: 100%; max-width: 600px; margin: auto; overflow: hidden;\">\n",
    "  <div id=\"slider\" style=\"display: flex; transition: transform 0.5s ease-in-out;\">\n",
    "    <img src=\"1.jpg\" alt=\"Image 1\" style=\"width: 100%; flex-shrink: 0;\">\n",
    "    <img src=\"2.jpg\" alt=\"Image 2\" style=\"width: 100%; flex-shrink: 0;\">\n",
    "    <img src=\"3.jpg\" alt=\"Image 3\" style=\"width: 100%; flex-shrink: 0;\">\n",
    "    <img src=\"4.jpg\" alt=\"Image 4\" style=\"width: 100%; flex-shrink: 0;\">\n",
    "  </div>\n",
    "  <button id=\"prev\" style=\"position: absolute; top: 50%; left: 0; transform: translateY(-50%); background-color: rgba(0,0,0,0.5); color: white; border: none; padding: 10px; cursor: pointer;\">&#10094;</button>\n",
    "  <button id=\"next\" style=\"position: absolute; top: 50%; right: 0; transform: translateY(-50%); background-color: rgba(0,0,0,0.5); color: white; border: none; padding: 10px; cursor: pointer;\">&#10095;</button>\n",
    "</div>\n",
    "\n",
    "<script>\n",
    "(function() {\n",
    "  let currentIndex = 0; // Track the current image index\n",
    "  const slider = document.getElementById('slider'); // Get the slider element\n",
    "  const images = slider.getElementsByTagName('img'); // Get all images\n",
    "  const totalImages = images.length; // Count the images\n",
    "\n",
    "  // Set the slider width based on the number of images\n",
    "  slider.style.width = `${totalImages * 100}%`;\n",
    "\n",
    "  // Function to navigate to the previous image\n",
    "  function showPrevImage() {\n",
    "    currentIndex = (currentIndex - 1 + totalImages) % totalImages; // Move to the previous image\n",
    "    slider.style.transform = 'translateX(' + (-currentIndex * 100) + '%)'; // Update slider position\n",
    "  }\n",
    "\n",
    "  // Function to navigate to the next image\n",
    "  function showNextImage() {\n",
    "    currentIndex = (currentIndex + 1) % totalImages; // Move to the next image\n",
    "    slider.style.transform = 'translateX(' + (-currentIndex * 100) + '%)'; // Update slider position\n",
    "  }\n",
    "\n",
    "  // Add click event listeners for buttons\n",
    "  document.getElementById('prev').addEventListener('click', showPrevImage);\n",
    "  document.getElementById('next').addEventListener('click', showNextImage);\n",
    "\n",
    "  // Add keydown event listener for arrow keys\n",
    "  document.addEventListener('keydown', function(event) {\n",
    "    if (event.key === 'ArrowLeft') {\n",
    "      showPrevImage(); // Left arrow key: Show previous image\n",
    "    } else if (event.key === 'ArrowRight') {\n",
    "      showNextImage(); // Right arrow key: Show next image\n",
    "    }\n",
    "  });\n",
    "})();\n",
    "</script>\n"
   ]
  },
  {
   "cell_type": "code",
   "execution_count": null,
   "id": "696ee3ae-fc93-478c-83d7-a0cf1d9f06fc",
   "metadata": {},
   "outputs": [],
   "source": []
  }
 ],
 "metadata": {
  "kernelspec": {
   "display_name": "Python 3 (ipykernel)",
   "language": "python",
   "name": "python3"
  },
  "language_info": {
   "codemirror_mode": {
    "name": "ipython",
    "version": 3
   },
   "file_extension": ".py",
   "mimetype": "text/x-python",
   "name": "python",
   "nbconvert_exporter": "python",
   "pygments_lexer": "ipython3",
   "version": "3.13.1"
  }
 },
 "nbformat": 4,
 "nbformat_minor": 5
}
