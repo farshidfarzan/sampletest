{
 "cells": [
  {
   "cell_type": "markdown",
   "id": "ab33b1e4-1956-4b78-9fae-fec228f0847b",
   "metadata": {},
   "source": [
    "<div style=\"position: relative; width: 100%; max-width: 600px; margin: auto; overflow: hidden;\">\n",
    "  <div id=\"slider\" style=\"display: flex; width: 400%; transition: transform 0.5s ease-in-out;\">\n",
    "    <img src=\"1.jpg\" alt=\"Image 1\" style=\"width: 100%; flex-shrink: 0;\">\n",
    "    <img src=\"2.jpg\" alt=\"Image 2\" style=\"width: 100%; flex-shrink: 0;\">\n",
    "    <img src=\"3.jpg\" alt=\"Image 3\" style=\"width: 100%; flex-shrink: 0;\">\n",
    "    <img src=\"4.jpg\" alt=\"Image 4\" style=\"width: 100%; flex-shrink: 0;\">\n",
    "  </div>\n",
    "  <button id=\"prev\" style=\"position: absolute; top: 50%; left: 0; transform: translateY(-50%); background-color: rgba(0,0,0,0.5); color: white; border: none; padding: 10px; cursor: pointer;\">&#10094;</button>\n",
    "  <button id=\"next\" style=\"position: absolute; top: 50%; right: 0; transform: translateY(-50%); background-color: rgba(0,0,0,0.5); color: white; border: none; padding: 10px; cursor: pointer;\">&#10095;</button>\n",
    "</div>\n",
    "\n",
    "<script>\n",
    "(function() {\n",
    "  let currentIndex = 0;\n",
    "  const slider = document.getElementById('slider');\n",
    "  const images = slider.getElementsByTagName('img');\n",
    "  const totalImages = images.length;\n",
    "\n",
    "  // Set slider width dynamically based on total images\n",
    "  slider.style.width = `${totalImages * 100}%`;\n",
    "\n",
    "  // Update button functionality\n",
    "  document.getElementById('prev').addEventListener('click', function() {\n",
    "      currentIndex = (currentIndex - 1 + totalImages) % totalImages;\n",
    "      slider.style.transform = 'translateX(' + (-currentIndex * 100) + '%)';\n",
    "  });\n",
    "\n",
    "  document.getElementById('next').addEventListener('click', function() {\n",
    "      currentIndex = (currentIndex + 1) % totalImages;\n",
    "      slider.style.transform = 'translateX(' + (-currentIndex * 100) + '%)';\n",
    "  });\n",
    "})();\n",
    "</script>\n"
   ]
  },
  {
   "cell_type": "code",
   "execution_count": null,
   "id": "398d862d-0d3f-4659-a46d-95249703f2b3",
   "metadata": {},
   "outputs": [],
   "source": []
  }
 ],
 "metadata": {
  "kernelspec": {
   "display_name": "Python 3 (ipykernel)",
   "language": "python",
   "name": "python3"
  },
  "language_info": {
   "codemirror_mode": {
    "name": "ipython",
    "version": 3
   },
   "file_extension": ".py",
   "mimetype": "text/x-python",
   "name": "python",
   "nbconvert_exporter": "python",
   "pygments_lexer": "ipython3",
   "version": "3.13.1"
  }
 },
 "nbformat": 4,
 "nbformat_minor": 5
}
