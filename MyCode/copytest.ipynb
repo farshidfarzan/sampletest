{
 "cells": [
  {
   "cell_type": "markdown",
   "id": "9eb2263b",
   "metadata": {
    "deletable": false,
    "editable": false
   },
   "source": [
    "Copyright 2020 Andrew M. Olney and made available under [CC BY-SA](https://creativecommons.org/licenses/by-sa/4.0) for text and [Apache-2.0](http://www.apache.org/licenses/LICENSE-2.0) for code."
   ]
  },
  {
   "cell_type": "markdown",
   "id": "59347e19",
   "metadata": {
    "deletable": false,
    "editable": false
   },
   "source": [
    "# Data Science and the Nature of Data"
   ]
  },
  {
   "cell_type": "markdown",
   "id": "36cc6fd7",
   "metadata": {
    "deletable": false,
    "editable": false
   },
   "source": [
    "## Types of variables\n",
    "\n",
    "Structured data begins with **measurements** of some type of thing in the real world, which we call a **variable**.\n",
    "Consider the example of height. \n",
    "I may measure 10 people and find that their heights in centimeters are:\n",
    "\n",
    "| Height |\n",
    "|--------|\n",
    "| 165    |\n",
    "| 188    |\n",
    "| 153    |\n",
    "| 164    |\n",
    "| 150    |\n",
    "| 190    |\n",
    "| 169    |\n",
    "| 163    |\n",
    "| 165    |\n",
    "| 190    |\n",
    "\n",
    "Each of these values (e.g. 165) is a measurement of the variable *height*.\n",
    "We call *height* a variable because its value isn't constant.\n",
    "If everyone in the world were the same height, we wouldn't call height a variable, and we also wouldn't bother measuring it, because we'd know everyone is the same.\n",
    "\n",
    "Variables have different **types** that can affect your analysis.\n",
    "\n",
    "### Nominal\n",
    "\n",
    "A nominal variable consists of unordered categories, like *male* or *female* for biological sex.\n",
    "Notice that these categories are not numbers, and there is no order to the categories.\n",
    "We do not say that male comes before female or is smaller than female.\n",
    "\n",
    "### Ordinal\n",
    "\n",
    "Ordinal variables consist of ordered categories.\n",
    "You can think of it as nominal data but with an ordering from first to last or smallest to largest.\n",
    "A common example of ordinal data are Likert questions like:\n",
    "\n",
    "```\n",
    "(1) Strongly disagree\n",
    "(2) Disagree\n",
    "(3) Neither agree nor disagree\n",
    "(4) Agree\n",
    "(5) Strongly agree\n",
    "```\n",
    "\n",
    "Even though these options are numbered 1 to 5, those numbers only indicate which comes before the others, not how \"big\" an option is.\n",
    "For example, we wouldn't say that the difference between *Agree*  and *Disagree* is the same as the difference between *Neither agree nor disagree* and *Strongly agree*.\n",
    "\n",
    "### Interval\n",
    "\n",
    "Interval variables are ordered *and* their measurement scales are evenly spaced.\n",
    "A classic example is temperature in Fahrenheit.\n",
    "In degrees Fahrenheit, the difference between 70 and 71 is the same as the difference between 90 and 91 - either case is one degree.\n",
    "The other most important characteristic of interval variables is also the most confusing one, which is that interval variables don't have a meaningful zero value.\n",
    "Degrees Fahrenheit is an example of this because there's nothing special about 0 degrees. \n",
    "0 degrees doesn't mean there's no temperature or no heat energy, it's just an arbitrary point on the scale.\n",
    "\n",
    "### Ratio\n",
    "\n",
    "Ratio variables are like interval variables but with meaningful zeros.\n",
    "Age and height are good examples because 0 age means you have no age, and 0 height means you have no height.\n",
    "The name *ratio* reflects that you can form a ratio with these variables, which means that you can say age 20 is twice as old as age 10.\n",
    "Notice you can't say that about degrees Fahrenheit: 100 degrees is not really twice as hot as 50 degrees, because 0 degrees Fahrenheit doesn't mean \"no temperature.\"\n"
   ]
  },
  {
   "cell_type": "code",
   "execution_count": null,
   "id": "e785cea5-4d5a-4a07-9775-eae3bffaba5a",
   "metadata": {},
   "outputs": [],
   "source": []
  },
  {
   "cell_type": "code",
   "execution_count": null,
   "id": "63edb4cb-7d90-406f-a5d7-d84a4e2c5778",
   "metadata": {},
   "outputs": [],
   "source": []
  },
  {
   "cell_type": "code",
   "execution_count": 1,
   "id": "975c5522-8dc1-45ee-be98-97be2148fb88",
   "metadata": {},
   "outputs": [
    {
     "name": "stdout",
     "output_type": "stream",
     "text": [
      "Markdown cell not found.\n",
      "Notebook saved without the locked markdown cell.\n"
     ]
    }
   ],
   "source": [
    "import nbformat\n",
    "\n",
    "# Path to the current notebook\n",
    "notebook_path = \"copytest.ipynb\"\n",
    "\n",
    "# Load the existing notebook\n",
    "with open(notebook_path, \"r\") as f:\n",
    "    notebook = nbformat.read(f, as_version=4)\n",
    "\n",
    "# Define the exact identifier for the cell (unique part of the content or full text)\n",
    "cell_to_remove_content = \"<iframe width='560' height='315' src='https://www.youtube.com/embed/gtR6o4T6MyA?si=P96V4LzxBrcOCXl8'\"\n",
    "\n",
    "# Iterate through all cells and force delete the matching cell\n",
    "cell_deleted = False\n",
    "for i, cell in enumerate(notebook.cells):\n",
    "    if cell.cell_type == \"markdown\" and cell_to_remove_content in ''.join(cell.source):\n",
    "        del notebook.cells[i]\n",
    "        cell_deleted = True\n",
    "        print(f\"Removed markdown cell containing: {cell_to_remove_content}\")\n",
    "        break\n",
    "\n",
    "if not cell_deleted:\n",
    "    print(\"Markdown cell not found.\")\n",
    "\n",
    "# Save the modified notebook\n",
    "with open(notebook_path, \"w\") as f:\n",
    "    nbformat.write(notebook, f)\n",
    "\n",
    "print(\"Notebook saved without the locked markdown cell.\")\n"
   ]
  },
  {
   "cell_type": "code",
   "execution_count": null,
   "id": "7642233c-7d02-4243-97b8-ad451a6b3852",
   "metadata": {},
   "outputs": [],
   "source": []
  }
 ],
 "metadata": {
  "kernelspec": {
   "display_name": "Python 3 (ipykernel)",
   "language": "python",
   "name": "python3"
  },
  "language_info": {
   "codemirror_mode": {
    "name": "ipython",
    "version": 3
   },
   "file_extension": ".py",
   "mimetype": "text/x-python",
   "name": "python",
   "nbconvert_exporter": "python",
   "pygments_lexer": "ipython3",
   "version": "3.13.1"
  }
 },
 "nbformat": 4,
 "nbformat_minor": 5
}
