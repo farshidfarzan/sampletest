{
 "cells": [
  {
   "cell_type": "markdown",
   "id": "3126ff03-0d5e-440c-bda9-ab8198233451",
   "metadata": {
     "html": "<div id='img-container'><img src='' id='agent-img' style='border: 5px solid black; max-width: 100%; height: auto;'></div><script>const agent= new URLSearchParams(window.location.search).get('personalagent') || 'c1-f-h1-cl1-3'; document.getElementById('agent-img').src = 'https://ffarzan.com/wp-content/uploads/2025/02/' + agent + '.jpg';</script>"
   },
   "source": []
  },
  {
   "cell_type": "code",
   "execution_count": null,
   "id": "8961ebce-03dd-4492-b589-be5c92af8b54",
   "metadata": {},
   "outputs": [],
   "source": []
  }
 ],
 "metadata": {
  "kernelspec": {
   "display_name": "Python 3 (ipykernel)",
   "language": "python",
   "name": "python3"
  },
  "language_info": {
   "codemirror_mode": {
    "name": "ipython",
    "version": 3
   },
   "file_extension": ".py",
   "mimetype": "text/x-python",
   "name": "python",
   "nbconvert_exporter": "python",
   "pygments_lexer": "ipython3",
   "version": "3.13.2"
  }
 },
 "nbformat": 4,
 "nbformat_minor": 5
}
