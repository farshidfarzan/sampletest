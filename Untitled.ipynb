{
 "cells": [
  {
   "cell_type": "code",
   "execution_count": 4,
   "id": "cdb37000-67fe-46df-bf74-9719d2ac624b",
   "metadata": {
    "editable": true,
    "slideshow": {
     "slide_type": ""
    },
    "tags": []
   },
   "outputs": [
    {
     "data": {
      "application/javascript": [
       "\n",
       "        (function() {\n",
       "            let cells = document.querySelectorAll('.jp-Notebook-cell');\n",
       "            \n",
       "            // Write \"test\" to cell[3] if it exists\n",
       "            if (cells.length > 3) {\n",
       "                let cellContent = cells[3].querySelector('.jp-InputArea-editor');\n",
       "                if (cellContent) {\n",
       "                    cellContent.textContent = \"test3\";  // Set the content of cell[3]\n",
       "                } else {\n",
       "                    console.warn(\"Cell[3] has no editable area.\");\n",
       "                }\n",
       "            } else {\n",
       "                console.warn(\"Cell[3] does not exist.\");\n",
       "            }\n",
       "\n",
       "            // Hide cell[5] if it exists\n",
       "            if (cells.length > 5) {\n",
       "                cells[4].style.display = '';  // Hide cell[5]\n",
       "            } else {\n",
       "                console.warn(\"Cell[5] does not exist.\");\n",
       "            }\n",
       "        })();\n",
       "    "
      ],
      "text/plain": [
       "<IPython.core.display.Javascript object>"
      ]
     },
     "metadata": {},
     "output_type": "display_data"
    }
   ],
   "source": [
    "from IPython.display import display, Javascript\n",
    "\n",
    "def modify_notebook_cells():\n",
    "    display(Javascript('''\n",
    "        (function() {\n",
    "            let cells = document.querySelectorAll('.jp-Notebook-cell');\n",
    "            \n",
    "            // Write \"test\" to cell[3] if it exists\n",
    "            if (cells.length > 3) {\n",
    "                let cellContent = cells[3].querySelector('.jp-InputArea-editor');\n",
    "                if (cellContent) {\n",
    "                    cellContent.textContent = \"test3\";  // Set the content of cell[3]\n",
    "                } else {\n",
    "                    console.warn(\"Cell[3] has no editable area.\");\n",
    "                }\n",
    "            } else {\n",
    "                console.warn(\"Cell[3] does not exist.\");\n",
    "            }\n",
    "\n",
    "            // Hide cell[5] if it exists\n",
    "            if (cells.length > 5) {\n",
    "                cells[4].style.display = '';  // Hide cell[5]\n",
    "            } else {\n",
    "                console.warn(\"Cell[5] does not exist.\");\n",
    "            }\n",
    "        })();\n",
    "    '''))\n",
    "\n",
    "# Call the function to write to cell[3] and hide cell[5]\n",
    "modify_notebook_cells()\n"
   ]
  },
  {
   "cell_type": "code",
   "execution_count": null,
   "id": "7772a495-5168-41fb-9f28-a24031999ac6",
   "metadata": {},
   "outputs": [],
   "source": []
  },
  {
   "cell_type": "code",
   "execution_count": null,
   "id": "9fcc84df-8272-4ae0-94f2-80fed7c6b5ba",
   "metadata": {},
   "outputs": [],
   "source": []
  },
  {
   "cell_type": "code",
   "execution_count": null,
   "id": "105c04f2-cfd3-4665-b5d2-2a24908d5247",
   "metadata": {},
   "outputs": [],
   "source": []
  },
  {
   "cell_type": "code",
   "execution_count": null,
   "id": "23e0ddd9-137c-4e2b-9ec1-b1d3cef67ed8",
   "metadata": {},
   "outputs": [],
   "source": []
  },
  {
   "cell_type": "code",
   "execution_count": null,
   "id": "b0d6af38-9cdb-4c00-b92f-75bf47d4770a",
   "metadata": {},
   "outputs": [],
   "source": []
  }
 ],
 "metadata": {
  "kernelspec": {
   "display_name": "Python 3 (ipykernel)",
   "language": "python",
   "name": "python3"
  },
  "language_info": {
   "codemirror_mode": {
    "name": "ipython",
    "version": 3
   },
   "file_extension": ".py",
   "mimetype": "text/x-python",
   "name": "python",
   "nbconvert_exporter": "python",
   "pygments_lexer": "ipython3",
   "version": "3.13.1"
  }
 },
 "nbformat": 4,
 "nbformat_minor": 5
}
