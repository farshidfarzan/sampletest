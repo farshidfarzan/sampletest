{
 "cells": [
  {
   "cell_type": "markdown",
   "metadata": {
    "editable": true,
    "slideshow": {
     "slide_type": ""
    },
    "tags": []
   },
   "source": [
    "Copyright 2020 Andrew M. Olney and made available under [CC BY-SA](https://creativecommons.org/licenses/by-sa/4.0) for text and [Apache-2.0](http://www.apache.org/licenses/LICENSE-2.0) for code."
   ]
  },
{
   "cell_type": "markdown",
   "metadata": {
 "editable": true,
    "html": "<img class='metadata-html' id='agent-img-1' style='width: 25%; display: block; margin-left: auto; margin-right: auto;'>",
    "slideshow": {
        "slide_type": ""
    },
    "tags": {}
   },
   "source": [
    "  # 1- Data Science and the Nature of Data"
   ]
  },
  {
   "cell_type": "markdown",
   "metadata": {},
   "source": [
    "<span style=\"color: #8B0000;\">\n",
    "Data science is the study of data, how we collect, organize, and analyze it to extract meaningful insights. This material is structured to help you understand data science basics in a logical and step by step manner.\n",
    "</span>"
   ]
  },
  {
   "cell_type": "markdown",
   "metadata": {},
   "source": [
    "<span style=\"color: #8B0000;\">\n",
    "1-1 Understanding Variables: We begin by defining variables, which are the fundamental building blocks of data. A variable represents a characteristic that can take different values, such as height, age, or weight.\n",
    "</span>"
   ]
  },
  {
   "cell_type": "markdown",
   "metadata": {},
   "source": [
    "<span style=\"color: #8B0000;\">\n",
    "1-2 Types of Variables: Next, we categorize variables into four types:\n",
    "\n",
    "- **Nominal** (categorical labels, like gender or color)\n",
    "- **Ordinal** (ordered categories, like rankings)\n",
    "- **Interval** (numeric values with equal spacing, like temperature)\n",
    "- **Ratio** (numeric values with a meaningful zero, like age)\n",
    "</span>"
   ]
  },
  {
   "cell_type": "markdown",
   "metadata": {},
   "source": [
    "<span style=\"color: #8B0000;\">\n",
    "1-3 Organizing Data in Tables: We then explore how data is structured in tables and spreadsheets. Each row represents an individual observation, and each column represents a variable.\n",
    "</span>"
   ]
  },
  {
   "cell_type": "markdown",
   "metadata": {},
   "source": [
    "<span style=\"color: #8B0000;\">\n",
    "1-4 Using Dataframes in Data Science: Finally, we introduce dataframes, a tool used in programming to manipulate and analyze tabular data effectively.\n",
    "</span>"
   ]
  },
  {
   "cell_type": "markdown",
   "metadata": {},
   "source": [
    "<span style=\"color: #8B0000;\">\n",
    "Throughout this material, you will progress through clear examples and explanations, building your knowledge step by step. By the end, you will have a solid understanding of how data is classified, structured, and analyzed using dataframes. This logical approach ensures that each concept is fully understood before moving on to the next.\n",
    "</span>"
   ]
  },
  {
   "cell_type": "markdown",
   "metadata": {
    "editable": true,
    "slideshow": {
     "slide_type": ""
    },
    "tags": []
   },
   "source": [
    "## 2- Types of variables\n",
    "\n",
    "Structured data begins with **measurements** of some type of thing in the real world, which we call a **variable**.\n",
    "Consider the example of height. \n",
    "I may measure 10 people and find that their heights in centimeters are:\n",
    "\n",
    "<div style=\"display: flex; align-items: flex-start;\">\n",
    "\n",
    "<!-- Table -->\n",
    "<div>\n",
    "    <table>\n",
    "        <thead>\n",
    "            <tr>\n",
    "                <th>Height</th>\n",
    "            </tr>\n",
    "        </thead>\n",
    "        <tbody>\n",
    "            <tr><td>165</td></tr>\n",
    "            <tr><td>188</td></tr>\n",
    "            <tr><td>153</td></tr>\n",
    "            <tr><td>164</td></tr>\n",
    "            <tr><td>150</td></tr>\n",
    "            <tr><td>190</td></tr>\n",
    "            <tr><td>169</td></tr>\n",
    "            <tr><td>163</td></tr>\n",
    "            <tr><td>165</td></tr>\n",
    "            <tr><td>190</td></tr>\n",
    "        </tbody>\n",
    "    </table>\n",
    "</div>\n",
    "\n",
    "\n",
    "</div>\n",
    "\n",
    "Each of these values (e.g. 165) is a measurement of the variable *height*.\n",
    "We call *height* a variable because its value isn't constant.\n",
    "If everyone in the world were the same height, we wouldn't call height a variable, and we also wouldn't bother measuring it, because we'd know everyone is the same.\n",
    "\n",
    "Variables have different **types** that can affect your analysis.\n",
    "\n",
    "### 2-1 Nominal\n",
    "\n",
    "A nominal variable consists of unordered categories, like *male* or *female* for biological sex.\n",
    "Notice that these categories are not numbers, and there is no order to the categories.\n",
    "We do not say that male comes before female or is smaller than female.\n",
    "<span style=\"color: #8B0000;\">\n",
    "Example: Pet Type - Consider a survey question asking respondents about the type of pet they own: Dog, Cat, Bird, or None. These categories serve to classify responses but do not imply any order or ranking.\n",
    "</span>\n",
    "\n",
    "### 2-2 Ordinal\n",
    "\n",
    "Ordinal variables consist of ordered categories.\n",
    "You can think of it as nominal data but with an ordering from first to last or smallest to largest.\n",
    "A common example of ordinal data are Likert questions like:\n",
    "\n",
    "```\n",
    "(1) Strongly disagree\n",
    "(2) Disagree\n",
    "(3) Neither agree nor disagree\n",
    "(4) Agree\n",
    "(5) Strongly agree\n",
    "```\n",
    "\n",
    "Even though these options are numbered 1 to 5, those numbers only indicate which comes before the others, not how \"big\" an option is.\n",
    "For example, we wouldn't say that the difference between *Agree*  and *Disagree* is the same as the difference between *Neither agree nor disagree* and *Strongly agree*.\n",
    "<span style=\"color: #8B0000;\">\n",
    "Example: Education Level - Education levels listed as Elementary, High School, College, and Postgraduate. While there is a clear order to these categories, the difference in educational attainment between each level isn't quantified.\n",
    "</span>\n",
    "\n",
    "### 2-3 Interval\n",
    "\n",
    "Interval variables are ordered *and* their measurement scales are evenly spaced.\n",
    "A classic example is temperature in Fahrenheit.\n",
    "In degrees Fahrenheit, the difference between 70 and 71 is the same as the difference between 90 and 91 - either case is one degree.\n",
    "The other most important characteristic of interval variables is also the most confusing one, which is that interval variables don't have a meaningful zero value.\n",
    "Degrees Fahrenheit is an example of this because there's nothing special about 0 degrees. \n",
    "0 degrees doesn't mean there's no temperature or no heat energy, it's just an arbitrary point on the scale.\n",
    "<span style=\"color: #8B0000;\">\n",
    "Example: Time of Day - Recorded in hours, such as 10:00, 11:00, 12:00. The difference between each hour is constant, but 0:00 does not imply the absence of time.\n",
    "</span>\n",
    "\n",
    "### 2-4 Ratio\n",
    "\n",
    "Ratio variables are like interval variables but with meaningful zeros.\n",
    "Age and height are good examples because 0 age means you have no age, and 0 height means you have no height.\n",
    "The name *ratio* reflects that you can form a ratio with these variables, which means that you can say age 20 is twice as old as age 10.\n",
    "Notice you can't say that about degrees Fahrenheit: 100 degrees is not really twice as hot as 50 degrees, because 0 degrees Fahrenheit doesn't mean \"no temperature.\"\n",
    "<span style=\"color: #8B0000;\">\n",
    "Example: Distance Traveled - Measured in kilometers on a trip. This variable has a true zero point (no travel), and differences and ratios are meaningful.\n",
    "</span>"
   ]
  },
  {
   "cell_type": "markdown",
   "metadata": {
    "editable": true,
    "slideshow": {
     "slide_type": ""
    },
    "tags": []
   },
   "source": [
    "## 3- Tabular data\n",
    "\n",
    "The most common type of structured data is **tabular data** which is what you find in spreadsheets.\n",
    "If you've ever used a spreadsheet, you know something about tabular data!\n",
    "\n",
    "Here's an example of tabular data, with *height* in centimeters, *age* in years, and *weight* in kilograms:\n",
    "\n",
    "<div style=\"display: flex; align-items: center;\">\n",
    "\n",
    "<!-- Table -->\n",
    "<div>\n",
    "    <table>\n",
    "        <thead>\n",
    "            <tr>\n",
    "                <th>Height</th>\n",
    "                <th>Age</th>\n",
    "                <th>Weight</th>\n",
    "            </tr>\n",
    "        </thead>\n",
    "        <tbody>\n",
    "            <tr><td>161</td><td>50</td><td>53</td></tr>\n",
    "            <tr><td>161</td><td>17</td><td>53</td></tr>\n",
    "            <tr><td>155</td><td>33</td><td>84</td></tr>\n",
    "            <tr><td>180</td><td>51</td><td>84</td></tr>\n",
    "            <tr><td>186</td><td>18</td><td>88</td></tr>\n",
    "        </tbody>\n",
    "    </table>\n",
    "</div>\n"
   ]
  },
  {
   "cell_type": "markdown",
   "metadata": {
"editable": true,
    "html": "<img class='metadata-html' id='agent-img-2' style='width: 25%; display: block; margin-left: auto; margin-right: auto;'>",
    "slideshow": {
        "slide_type": ""
    },
    "tags": {}
},
   "source": [
    "**Follow the steps!**"
   ]
  },
  {
   "cell_type": "markdown",
   "metadata": {
    "editable": true,
    "slideshow": {
     "slide_type": ""
    },
    "tags": []
   },
   "source": [
    "</div>\n",
    "In tabular data like this, each **row** is a person.\n",
    "More generically, we would say each row is an **observation** or **datapoint** (in statistics terminology) or an **item** (in machine learning terminology).\n",
    "In each row, we have measurements for each of our variables for that particular person.\n",
    "Since we have five rows of measurements, we know that there are five people in this dataset.\n",
    "\n",
    "We can also think about tabular data in terms of **columns**.\n",
    "Each column represents a variable, with the name of that variable in the **column header**.\n",
    "For example, *height* is at the top of the first column and is the name of the variable for that column.\n",
    "Importantly, the header is not an observation but rather a description of our data.\n",
    "This is why we don't count the header when we are counting the rows in our data.\n",
    "\n",
    "### 3-1 Delimited tabular data - CSV and TSV\n",
    "\n",
    "You are probably familiar with spreadsheet files, e.g. Microsoft Excel has files that end in `.xls` or `.xlsx`.\n",
    "However, in data science, it is more common to have tabular data files that are **delimited**.\n",
    "A delimited file is just a plain text file where column boundaries are represented by a specific character, usually a comma or a tab.\n",
    "\n",
    "Here's what the data above looks like in **comma separated value (CSV)** form:\n",
    "\n",
    "```\n",
    "Height,Age,Weight\n",
    "161,50,53\n",
    "161,17,53\n",
    "155,33,84\n",
    "180,51,84\n",
    "186,18,88\n",
    "```\n",
    "\n",
    "and here's what the data looks like in **tab separated value (TSV)** form:\n",
    "\n",
    "```\n",
    "Height\tAge\tWeight\n",
    "161\t50\t53\n",
    "161\t17\t53\n",
    "155\t33\t84\n",
    "180\t51\t84\n",
    "186\t18\t88\n",
    "```\n",
    "\n",
    "The choice of the delimiter (comma, tab, or something else) is really arbitrary, but it's always better to use a delimiter that doesn't appear in your data.\n",
    "\n",
    "## 4- Dataframes\n",
    "\n",
    "Data scientists often load tabular data into a **dataframe** that they can manipulate in a program.\n",
    "In other words, tabular data from a file is brought into the computational notebook in a variable that represents rows, columns, header, etc just like they are stored in the tabular data file.\n",
    "Because dataframes match tabular data in files, they are very intuitive to work with, which may explain their popularity.\n",
    "\n",
    "We're now at the practical portion of this notebook, so let's work with dataframes!"
   ]
  },
  {
   "cell_type": "markdown",
   "metadata": {},
   "source": [
    "## 5- Working Examples "
   ]
  },
  {
   "cell_type": "markdown",
   "metadata": {},
   "source": [
    "Let's now proceed with some working examples to explore how we can manipulate and analyze our data using a dataframe."
   ]
  },
  {
   "cell_type": "markdown",
   "metadata": {},
   "source": [
    "##### 5-1 First Example"
   ]
  },
  {
   "cell_type": "markdown",
   "metadata": {},
   "source": [
    "First, we need to import a dataframe library called `pandas`."
   ]
  },
  {
   "cell_type": "markdown",
   "metadata": {
    "html": "<div style='display: flex; gap: 10px; align-items: center; height: 300px;'><div style='flex: 3; display: flex; justify-content: center; align-items: center;'><video style='width: 100%; border: 5px solid black;' controls><source src='https://video.olney.ai/e1-we-code-import-pandas.m4v' type='video/mp4'></video></div><div style='flex: 1; display: flex; justify-content: center; align-items: center;'><img src='https://ffarzan.com/wp-content/uploads/2025/01/left-point-hand.jpg' alt='Pointing Hand' style='max-width: 100%; height: auto; border: none;'></div></div>"
   },
   "source": [
    "**Follow the steps in the video below**"
   ]
  },
  {
   "cell_type": "markdown",
   "metadata": {},
   "source": [
    "Once the code is in the Jupyter cell below, you must **execute** or **run** it by either pressing the &#9658; button at the top of the window or by pressing Shift + Enter on your keyboard."
   ]
  },
  {
   "cell_type": "code",
   "execution_count": 2,
   "metadata": {},
   "outputs": [],
   "source": []
  },
  {
   "cell_type": "markdown",
   "metadata": {},
   "source": [
    "\n",
    "We can now do things with `pd`, like load datasets!\n",
    "\n",
    "##### 5-2 Second Example\n",
    "\n",
    "Our file is called `height-age-weight.csv` and it is in the `datasets` folder.\n",
    "That means the **path** from this notebook (the one you're reading) to the data is `datasets/height-age-weight.csv`.\n",
    "\n",
    "To read this file into a dataframe, we will use `pd` and read the file into a variable called `dataframe`. "
   ]
  },
  {
   "cell_type": "markdown",
   "metadata": {
    "html": "<div style='display: flex; gap: 10px; align-items: center; height: 300px;'><div style='flex: 1; display: flex; justify-content: center; align-items: center;'><img src='https://ffarzan.com/wp-content/uploads/2025/01/right-point-hand.jpg' alt='Pointing Hand' style='max-width: 100%; height: auto; border: none;'></div><div style='flex: 3; display: flex; justify-content: center; align-items: center;'><video style='width: 100%; border: 5px solid black;' controls><source src='https://video.olney.ai/e1-we-code-read-csv-into-dataframe.m4v' type='video/mp4'></video></div></div>"
   },
   "source": [
    "**Follow the steps in the video below**"
   ]
  },
  {
   "cell_type": "markdown",
   "metadata": {},
   "source": [
    "Run the cell with the &#9658; button or press Shift + Enter to run the code."
   ]
  },
  {
   "cell_type": "code",
   "execution_count": null,
   "metadata": {},
   "outputs": [],
   "source": []
  },
  {
   "cell_type": "markdown",
   "metadata": {},
   "source": [
    "##### 5-3 Third Example\n",
    "\n",
    "We've read the csv and stored the data in the `dataframe` variable, so we will use the `dataframe` variable whenever we want to work with the data."
   ]
  },
  {
   "cell_type": "markdown",
   "metadata": {},
   "source": [
    "There are many things we can do with dataframes.\n",
    "One thing we can do is get specific rows."
   ]
  },
  {
   "cell_type": "markdown",
   "metadata": {
    "html": "<div style='display: flex; gap: 10px; align-items: flex-start;'><video style='width: 75%;' controls><source src='https://video.olney.ai/e1-we-code-first-row-of-dataframe.m4v' type='video/mp4'></video><img class='metadata-html' id='agent-img-3' src='https://olney.ai/img/elmo.jpg' style='width: 25%;' onload=\"(function(){let p=new URLSearchParams(window.location.search).get('personalagent');let url='https://ffarzan.com/wp-content/uploads/2025/03/jup-' + p + '-3.jpg';console.log('loading image at url:' + url);document.getElementById('agent-img-3').src=url;})();\"></div>"
   },
   "source": [
    "**Follow the steps in the video below**"
   ]
  },
  {
   "cell_type": "markdown",
   "metadata": {},
   "source": [
    "*Then &#9658; or Shift + Enter*"
   ]
  },
  {
   "cell_type": "code",
   "execution_count": null,
   "metadata": {},
   "outputs": [],
   "source": []
  },
  {
   "cell_type": "markdown",
   "metadata": {},
   "source": [
    "As you can see, the output is only the first row of the dataframe."
   ]
  },
  {
   "cell_type": "markdown",
   "metadata": {},
   "source": [
    "Try it again in the cell below, but this time, change the `1` to a `2`"
   ]
  },
  {
   "cell_type": "markdown",
   "metadata": {},
   "source": [
    "*Then &#9658; or Shift + Enter*"
   ]
  },
  {
   "cell_type": "code",
   "execution_count": null,
   "metadata": {},
   "outputs": [],
   "source": []
  },
  {
   "cell_type": "markdown",
   "metadata": {},
   "source": [
    "##### 5-4 Forth Example"
   ]
  },
  {
   "cell_type": "markdown",
   "metadata": {},
   "source": [
    "Now the output is the first two rows of the dataframe.\n",
    "We could get arbitrary rows of the dataframe by starting at a different number and ending at a different number.\n",
    "Sometimes people call this a **slice**."
   ]
  },
  {
   "cell_type": "markdown",
   "metadata": {},
   "source": [
    "We can get a column of the dataframe by using the name of the variable for that column.\n",
    "Before we go any further, let's step back for a second to talk about **lists**.\n",
    "\n",
    "We can think of a dataframe in two ways:\n",
    "\n",
    "- A list of rows\n",
    "- A list of columns\n",
    "\n",
    "We just saw the list of rows way.\n",
    "So why are columns any different?\n",
    "The difference is that our columns have variable names, and we often want to refer to columns using those names.\n",
    "For example, we want to say something like \"give me the Age column\" instead of \"give me column 2.\"\n",
    "\n",
    "Let's make a list from scratch to illustrate this."
   ]
  },
  {
   "cell_type": "markdown",
   "metadata": {
    "html": "<div style='display: flex; gap: 10px; align-items: flex-start;'><img class='metadata-html' id='agent-img-4' src='https://olney.ai/img/elmo.jpg' style='width: 25%;' onload=\"(function(){let p=new URLSearchParams(window.location.search).get('personalagent');let url='https://ffarzan.com/wp-content/uploads/2025/03/jup-' + p + '-4.jpg';console.log('loading image at url:' + url);document.getElementById('agent-img-4').src=url;})();\"><video style='width: 75%;' controls><source src='https://video.olney.ai/e1-we-code-list-one-element.m4v'></video></div>"
   },
   "source": [
    "**Follow the steps in the video below**"
   ]
  },
  {
   "cell_type": "markdown",
   "metadata": {},
   "source": [
    "Now execute the cell (scroll up if you need a reminder how)."
   ]
  },
  {
   "cell_type": "code",
   "execution_count": null,
   "metadata": {},
   "outputs": [],
   "source": []
  },
  {
   "cell_type": "markdown",
   "metadata": {},
   "source": [
    "##### 5-5 Fifth Example"
   ]
  },
  {
   "cell_type": "markdown",
   "metadata": {},
   "source": [
    "This is a list with one thing inside it, `\"Height\"`.\n",
    "Lists can have multiple things inside them, making lists a container for other variables."
   ]
  },
  {
   "cell_type": "markdown",
   "metadata": {},
   "source": [
    "Let's use a list to get a column from the dataframe."
   ]
  },
  {
   "cell_type": "markdown",
   "metadata": {
    "html": "<div style='display: flex; gap: 10px; align-items: center; height: 300px;'><div style='flex: 1; display: flex; justify-content: center; align-items: center;'><img src='https://ffarzan.com/wp-content/uploads/2025/01/right-point-hand.jpg' alt='Pointing Hand' style='max-width: 100%; height: auto; border: none;'></div><div style='flex: 3; display: flex; justify-content: center; align-items: center;'><video style='width: 100%; border: 5px solid black;' controls><source src='https://video.olney.ai/e1-we-code-dataframe-one-column.m4v' type='video/mp4'></video></div></div>"
   },
   "source": [
    "**Follow the steps in the video below**"
   ]
  },
  {
   "cell_type": "markdown",
   "metadata": {},
   "source": [
    "And run it."
   ]
  },
  {
   "cell_type": "code",
   "execution_count": null,
   "metadata": {},
   "outputs": [],
   "source": []
  },
  {
   "cell_type": "markdown",
   "metadata": {},
   "source": [
    "##### 5-6 Sixth Example"
   ]
  },
  {
   "cell_type": "markdown",
   "metadata": {},
   "source": [
    "We can get more than one column by adding another element to the list. "
   ]
  },
  {
   "cell_type": "markdown",
   "metadata": {
    "html": "<div style='display: flex; gap: 10px; align-items: center; height: 300px;'><div style='flex: 3; display: flex; justify-content: center; align-items: center;'><video style='width: 100%; border: 5px solid black;' controls><source src='https://video.olney.ai/e1-we-code-dataframe-two-column.m4v' type='video/mp4'></video></div><div style='flex: 1; display: flex; justify-content: center; align-items: center;'><img src='https://ffarzan.com/wp-content/uploads/2025/01/test-3.jpg' alt='Pointing Hand' style='max-width: 100%; height: auto; border: none;'></div></div>"
   },
   "source": [
    "**Follow the steps in the video below**"
   ]
  },
  {
   "cell_type": "markdown",
   "metadata": {},
   "source": [
    "And run the cell (try Shift + Enter if you haven't tried it yet)."
   ]
  },
  {
   "cell_type": "code",
   "execution_count": null,
   "metadata": {},
   "outputs": [],
   "source": []
  },
  {
   "cell_type": "markdown",
   "metadata": {},
   "source": [
    "##### 5-7 seventh Example"
   ]
  },
  {
   "cell_type": "markdown",
   "metadata": {},
   "source": [
    "To recap, dataframes are both lists of rows and lists of columns, and lists are themselves containers for other variables."
   ]
  },
  {
   "cell_type": "markdown",
   "metadata": {},
   "source": [
    "There are many, many things we can do with dataframes, but let's just talk about one more for now.\n",
    "\n",
    "We can select rows based on a value in a particular column:"
   ]
  },
  {
   "cell_type": "markdown",
   "metadata": {
    "deletable": false,
    "html": "<video style='border: 5px solid black;' class='metadata-html' width='914' height='179' controls><source src='https://video.olney.ai/e1-we-code-dataframe-filter-boolean.m4v' type='video/mp4'></video>"
   },
   "source": [
    "**Follow the steps in the video below**"
   ]
  },
  {
   "cell_type": "markdown",
   "metadata": {},
   "source": [
    "Don't forget to run the cell!"
   ]
  },
  {
   "cell_type": "code",
   "execution_count": null,
   "metadata": {},
   "outputs": [],
   "source": []
  },
  {
   "cell_type": "markdown",
   "metadata": {},
   "source": [
    "##### 5-8 Final Example"
   ]
  },
  {
   "cell_type": "markdown",
   "metadata": {},
   "source": [
    "The resulting column is `True` or `False` depending on whether the value of `Height` was above 161 or not (notice a few were exactly equal to 161, so they weren't greater)."
   ]
  },
  {
   "cell_type": "markdown",
   "metadata": {},
   "source": [
    "What we're about to do next is magical."
   ]
  },
  {
   "cell_type": "markdown",
   "metadata": {
    "html": "<div style='display: flex; gap: 10px; align-items: center; height: 300px;'><div style='flex: 1; display: flex; justify-content: center; align-items: center;'><img src='https://ffarzan.com/wp-content/uploads/2025/01/test-13.jpg' alt='Pointing Hand' style='max-width: 100%; height: auto; border: none;'></div><div style='flex: 3; display: flex; justify-content: center; align-items: center;'><video style='width: 100%; border: 5px solid black;' controls><source src='https://video.olney.ai/e1-we-code-dataframe-filter-values.m4v' type='video/mp4'></video></div></div>"
   },
   "source": [
    "**Follow the steps in the video below**"
   ]
  },
  {
   "cell_type": "code",
   "execution_count": null,
   "metadata": {},
   "outputs": [],
   "source": []
  },
  {
   "cell_type": "markdown",
   "metadata": {},
   "source": [
    "The dataframe only kept the rows for which `Height` was > 161, i.e. those for which this was `True`.\n",
    "\n",
    "Notice this time we didn't put `Height` in a list. It won't work if we do."
   ]
  },
  {
   "cell_type": "markdown",
   "metadata": {},
   "source": [
    "------------------------\n",
    "\n",
    "**Once you complete the above steps, the link for the completion keyword will appear below**\n",
    "\n",
    "If you think it should appear and it hasn't, double check these things:\n",
    "\n",
    "- Is there an answer in every code cell\n",
    "- Has every cell be run (does it have a number next to it, e.g. `[3]`\n",
    "- Remember you can watch the training video in the other tab"
   ]
  },
  {
   "cell_type": "markdown",
   "metadata": {
    "html": "<img class='metadata-html' id='agent-img-f11' src='https://olney.ai/img/elmo.jpg' style='width: 25%;' onload=\"(function(){let p=new URLSearchParams(window.location.search).get('personalagent');let url = 'https://ffarzan.com/wp-content/uploads/2025/03/jup-' + p + '-1.jpg'; console.log('loading image at url:' + url);  document.getElementById('agent-img-f11').src=url})();\">"
   },
   "source": [
    "  # Data Science and the Nature of Data"
   ]
  }
 ],
 "metadata": {
  "kernelspec": {
   "display_name": "xpython",
   "language": "python",
   "name": "xpython"
  },
  "language_info": {
   "file_extension": ".py",
   "mimetype": "text/x-python",
   "name": "python",
   "version": "3.7.6"
  }
 },
 "nbformat": 4,
 "nbformat_minor": 5
}
