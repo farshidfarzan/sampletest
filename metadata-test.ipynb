{
 "cells": [
  {
   "cell_type": "markdown",
   "metadata": {
    "deletable": false,
    "editable": true,
    "html": "<img class='metadata-html' id='agent-img' src='https://olney.ai/img/elmo.jpg' onload=\"(function(){let p=new URLSearchParams(window.location.search).get('personalagent'); let url = 'https://ffarzan.com/wp-content/uploads/2025/02/'+p+'.jpg'; console.log('loading image at url:' + url);  document.getElementById('agent-img').src=url})();\">"
   },
   "source": [
    "Hi"
   ]
  },
  {
   "cell_type": "code",
   "execution_count": null,
   "metadata": {},
   "outputs": [],
   "source": []
  }
 ],
 "metadata": {
  "kernelspec": {
   "display_name": "xpython",
   "language": "python",
   "name": "xpython"
  },
  "language_info": {
   "file_extension": ".py",
   "mimetype": "text/x-python",
   "name": "python",
   "version": "3.7.6"
  }
 },
 "nbformat": 4,
 "nbformat_minor": 4
}
