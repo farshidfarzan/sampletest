{
 "cells": [
  {
   "cell_type": "code",
   "execution_count": 1,
   "id": "ecd8040e-a9bd-4499-a21d-33e0db53c2a9",
   "metadata": {
    "editable": true,
    "slideshow": {
     "slide_type": ""
    },
    "tags": []
   },
   "outputs": [
    {
     "data": {
      "application/javascript": [
       "\n",
       "    let style = document.createElement('style');\n",
       "    style.innerHTML = `\n",
       "        .hidden-cell {\n",
       "            display: none !important;\n",
       "        }\n",
       "    `;\n",
       "    document.head.appendChild(style);\n"
      ],
      "text/plain": [
       "<IPython.core.display.Javascript object>"
      ]
     },
     "metadata": {},
     "output_type": "display_data"
    },
    {
     "data": {
      "application/javascript": [
       "\n",
       "        (function() {\n",
       "            let cells = document.querySelectorAll('.jp-Notebook-cell');\n",
       "            [2,3, 4].forEach(index => {\n",
       "                cells[index].classList.add('hidden-cell');\n",
       "            });\n",
       "        })();\n",
       "    "
      ],
      "text/plain": [
       "<IPython.core.display.Javascript object>"
      ]
     },
     "metadata": {},
     "output_type": "display_data"
    }
   ],
   "source": [
    "from IPython.display import display, Javascript, HTML\n",
    "\n",
    "def modify_notebook_cells():\n",
    "    display(Javascript('''\n",
    "        (function() {\n",
    "            let cells = document.querySelectorAll('.jp-Notebook-cell');\n",
    "            [2,3, 4].forEach(index => {\n",
    "                cells[index].classList.add('hidden-cell');\n",
    "            });\n",
    "        })();\n",
    "    '''))\n",
    "display(Javascript('''\n",
    "    let style = document.createElement('style');\n",
    "    style.innerHTML = `\n",
    "        .hidden-cell {\n",
    "            display: none !important;\n",
    "        }\n",
    "    `;\n",
    "    document.head.appendChild(style);\n",
    "'''))\n",
    "\n",
    "def create_unhide_button():\n",
    "    # Button for unhiding cell[2] and cell[3]\n",
    "    button_script = \"\"\"\n",
    "    <button id='unhideButton1' style='font-size: 14px; padding: 5px 10px; margin-bottom: 10px;'>Unhide Cells 2 and 3</button>\n",
    "    <script>\n",
    "        document.getElementById('unhideButton1').addEventListener('click', function() {\n",
    "            let cells = document.querySelectorAll('.jp-Notebook-cell');\n",
    "            [2, 3].forEach(index => {\n",
    "                cells[index].classList.remove('hidden-cell');\n",
    "            });\n",
    "        });\n",
    "    </script>\n",
    "    \"\"\"\n",
    "    display(HTML(button_script))\n",
    "\n",
    "def create_unhide_buttonnew():\n",
    "    # Button for unhiding cell[4]\n",
    "    button_script = \"\"\"\n",
    "    <button id='unhideButton2' style='font-size: 14px; padding: 5px 10px; margin-bottom: 10px;'>Unhide Cell 4</button>\n",
    "    <script>\n",
    "        document.getElementById('unhideButton2').addEventListener('click', function() {\n",
    "            let cells = document.querySelectorAll('.jp-Notebook-cell');\n",
    "            cells[4].classList.remove('hidden-cell');\n",
    "        });\n",
    "    </script>\n",
    "    \"\"\"\n",
    "    display(HTML(button_script))\n",
    "\n",
    "    \n",
    "modify_notebook_cells()\n"
   ]
  },
  {
   "cell_type": "code",
   "execution_count": 85,
   "id": "e93b8da8-af62-4272-b09a-7702e98604f8",
   "metadata": {
    "editable": false,
    "slideshow": {
     "slide_type": ""
    },
    "tags": []
   },
   "outputs": [
    {
     "data": {
      "text/html": [
       "\n",
       "    <button id='unhideButton1' style='font-size: 14px; padding: 5px 10px; margin-bottom: 10px;'>Unhide Cells 2 and 3</button>\n",
       "    <script>\n",
       "        document.getElementById('unhideButton1').addEventListener('click', function() {\n",
       "            let cells = document.querySelectorAll('.jp-Notebook-cell');\n",
       "            [2, 3].forEach(index => {\n",
       "                cells[index].classList.remove('hidden-cell');\n",
       "            });\n",
       "        });\n",
       "    </script>\n",
       "    "
      ],
      "text/plain": [
       "<IPython.core.display.HTML object>"
      ]
     },
     "metadata": {},
     "output_type": "display_data"
    }
   ],
   "source": [
    "create_unhide_button()"
   ]
  },
  {
   "cell_type": "code",
   "execution_count": 6,
   "id": "0f1d2128-639a-4175-8615-694a1f4a762c",
   "metadata": {
    "editable": true,
    "slideshow": {
     "slide_type": ""
    },
    "tags": []
   },
   "outputs": [
    {
     "data": {
      "application/javascript": [
       "\n",
       "        (function() {\n",
       "            let cells = document.querySelectorAll('.jp-Notebook-cell');\n",
       "            let activeElement = document.activeElement.closest('.jp-Notebook-cell');\n",
       "            if (activeElement) {\n",
       "                let cellIndex = Array.from(cells).indexOf(activeElement);\n",
       "                alert(`Current Cell Number: ${cellIndex}`);\n",
       "            } else {\n",
       "                alert('No active cell found.');\n",
       "            }\n",
       "        })();\n",
       "    "
      ],
      "text/plain": [
       "<IPython.core.display.Javascript object>"
      ]
     },
     "metadata": {},
     "output_type": "display_data"
    }
   ],
   "source": [
    "cell3"
   ]
  },
  {
   "cell_type": "code",
   "execution_count": 62,
   "id": "02f0a901-fd28-4ac1-8176-ef8667f35242",
   "metadata": {
    "editable": false,
    "slideshow": {
     "slide_type": ""
    },
    "tags": []
   },
   "outputs": [
    {
     "data": {
      "text/html": [
       "\n",
       "    <button id='unhideButton2' style='font-size: 14px; padding: 5px 10px; margin-bottom: 10px;'>Unhide Cell 4</button>\n",
       "    <script>\n",
       "        document.getElementById('unhideButton2').addEventListener('click', function() {\n",
       "            let cells = document.querySelectorAll('.jp-Notebook-cell');\n",
       "            cells[4].classList.remove('hidden-cell');\n",
       "        });\n",
       "    </script>\n",
       "    "
      ],
      "text/plain": [
       "<IPython.core.display.HTML object>"
      ]
     },
     "metadata": {},
     "output_type": "display_data"
    }
   ],
   "source": [
    "create_unhide_buttonnew()"
   ]
  },
  {
   "cell_type": "code",
   "execution_count": null,
   "id": "c2d02497-3d77-4354-a56c-a51065baeeb1",
   "metadata": {
    "editable": true,
    "slideshow": {
     "slide_type": ""
    },
    "tags": []
   },
   "outputs": [],
   "source": [
    "cell5"
   ]
  }
 ],
 "metadata": {
  "kernelspec": {
   "display_name": "Python 3 (ipykernel)",
   "language": "python",
   "name": "python3"
  },
  "language_info": {
   "codemirror_mode": {
    "name": "ipython",
    "version": 3
   },
   "file_extension": ".py",
   "mimetype": "text/x-python",
   "name": "python",
   "nbconvert_exporter": "python",
   "pygments_lexer": "ipython3",
   "version": "3.13.1"
  }
 },
 "nbformat": 4,
 "nbformat_minor": 5
}
